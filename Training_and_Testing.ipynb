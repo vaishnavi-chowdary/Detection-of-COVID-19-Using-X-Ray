{
  "nbformat": 4,
  "nbformat_minor": 0,
  "metadata": {
    "colab": {
      "name": "Untitled0.ipynb",
      "provenance": [],
      "authorship_tag": "ABX9TyON8AVDzm8lFr//Uc//eNv0",
      "include_colab_link": true
    },
    "kernelspec": {
      "name": "python3",
      "display_name": "Python 3"
    },
    "accelerator": "GPU"
  },
  "cells": [
    {
      "cell_type": "markdown",
      "metadata": {
        "id": "view-in-github",
        "colab_type": "text"
      },
      "source": [
        "<a href=\"https://colab.research.google.com/github/vaishnavi-chowdary/Detection-of-COVID-19-Using-X-Ray/blob/main/Training_and_Testing.ipynb\" target=\"_parent\"><img src=\"https://colab.research.google.com/assets/colab-badge.svg\" alt=\"Open In Colab\"/></a>"
      ]
    },
    {
      "cell_type": "code",
      "metadata": {
        "id": "1NsaHeFZLx_W"
      },
      "source": [
        "#Dataset:http://cb.lk/covid_19\r\n",
        "\r\n",
        "!wget http://cb.lk/covid_19\r\n"
      ],
      "execution_count": null,
      "outputs": []
    },
    {
      "cell_type": "code",
      "metadata": {
        "id": "L1XAd0LpPKht"
      },
      "source": [
        "!unzip covid_19"
      ],
      "execution_count": null,
      "outputs": []
    },
    {
      "cell_type": "code",
      "metadata": {
        "id": "95xBUqiBPaK8"
      },
      "source": [
        "TRAIN_PATH=\"CovidDataset/Train\"\r\n",
        "Val_PATH=\"CovidDataset/Test\""
      ],
      "execution_count": 18,
      "outputs": []
    },
    {
      "cell_type": "code",
      "metadata": {
        "id": "JHyZrYypQUvd"
      },
      "source": [
        "import numpy as np\r\n",
        "import matplotlib.pyplot as plt\r\n",
        "import keras\r\n",
        "from keras.layers import *\r\n",
        "from keras.models import *\r\n",
        "from keras.preprocessing import image"
      ],
      "execution_count": 20,
      "outputs": []
    },
    {
      "cell_type": "code",
      "metadata": {
        "id": "Xk0iBoDZQqFD"
      },
      "source": [
        "# CNN Based Model in Keras\r\n",
        "\r\n",
        "model= Sequential()\r\n",
        "model.add(Conv2D(32,kernel_size=(3,3),activation=\"relu\",input_shape=(224,224,3)))\r\n",
        "model.add(Conv2D(63,(3,3),activation=\"relu\"))\r\n",
        "model.add(MaxPooling2D(pool_size=(2,2)))\r\n",
        "model.add(Dropout(0.25))\r\n",
        "\r\n",
        "model.add(Conv2D(128,(3,3),activation=\"relu\"))\r\n",
        "model.add(MaxPooling2D(pool_size=(2,2)))\r\n",
        "model.add(Dropout(0.25))\r\n",
        "\r\n",
        "model.add(Flatten())\r\n",
        "model.add(Dense(64,activation=\"relu\"))\r\n",
        "model.add(Dropout(0.5)) \r\n",
        "model.add(Dense(1,activation=\"sigmoid\"))\r\n",
        "\r\n",
        "model.compile(loss=keras.losses.binary_crossentropy,optimizer=\"adam\",metrics=['accuracy'])\r\n",
        "\r\n",
        "\r\n"
      ],
      "execution_count": 21,
      "outputs": []
    },
    {
      "cell_type": "code",
      "metadata": {
        "id": "iziTFzFot1fo"
      },
      "source": [
        "model.summary()"
      ],
      "execution_count": null,
      "outputs": []
    },
    {
      "cell_type": "code",
      "metadata": {
        "id": "6CumSTkvuorv"
      },
      "source": [
        "#Train from Scratch\r\n",
        "train_datagen=image.ImageDataGenerator(\r\n",
        "    rescale=1./255,\r\n",
        "    shear_range=0.2,\r\n",
        "    zoom_range=0.2,\r\n",
        "    horizontal_flip=True,\r\n",
        ")\r\n",
        "\r\n",
        "test_dataset= image.ImageDataGenerator(rescale=1./255)\r\n",
        "\r\n"
      ],
      "execution_count": 23,
      "outputs": []
    },
    {
      "cell_type": "code",
      "metadata": {
        "colab": {
          "base_uri": "https://localhost:8080/"
        },
        "id": "tFzea17EwMne",
        "outputId": "1836099e-75a9-46eb-8371-6461c8339536"
      },
      "source": [
        "train_generator=train_datagen.flow_from_directory(\r\n",
        "    'CovidDataset/Train',\r\n",
        "    target_size=(224,224),\r\n",
        "    batch_size=32,\r\n",
        "    class_mode='binary')"
      ],
      "execution_count": 24,
      "outputs": [
        {
          "output_type": "stream",
          "text": [
            "Found 224 images belonging to 2 classes.\n"
          ],
          "name": "stdout"
        }
      ]
    },
    {
      "cell_type": "code",
      "metadata": {
        "id": "OHI2JcgQ26L3"
      },
      "source": [
        "train_generator.class_indices"
      ],
      "execution_count": null,
      "outputs": []
    },
    {
      "cell_type": "code",
      "metadata": {
        "colab": {
          "base_uri": "https://localhost:8080/"
        },
        "id": "xeAeqeU03FGm",
        "outputId": "e67bb817-44c3-40b1-b861-b099a79ca9e0"
      },
      "source": [
        "validation_generator=test_dataset.flow_from_directory(\r\n",
        "    'CovidDataset/Val',\r\n",
        "    target_size=(224,224),\r\n",
        "    batch_size=32,\r\n",
        "    class_mode='binary'\r\n",
        ")"
      ],
      "execution_count": 27,
      "outputs": [
        {
          "output_type": "stream",
          "text": [
            "Found 60 images belonging to 2 classes.\n"
          ],
          "name": "stdout"
        }
      ]
    },
    {
      "cell_type": "code",
      "metadata": {
        "colab": {
          "base_uri": "https://localhost:8080/"
        },
        "id": "HroSDLgJ3HHN",
        "outputId": "7244c83a-db0a-4e90-c9d2-0fc5772d75ce"
      },
      "source": [
        "hist=model.fit_generator(\r\n",
        "    train_generator,\r\n",
        "    steps_per_epoch=6,\r\n",
        "    epochs=10,\r\n",
        "    validation_data=validation_generator,\r\n",
        "    validation_steps=2\r\n",
        ")"
      ],
      "execution_count": 33,
      "outputs": [
        {
          "output_type": "stream",
          "text": [
            "/usr/local/lib/python3.7/dist-packages/tensorflow/python/keras/engine/training.py:1844: UserWarning: `Model.fit_generator` is deprecated and will be removed in a future version. Please use `Model.fit`, which supports generators.\n",
            "  warnings.warn('`Model.fit_generator` is deprecated and '\n"
          ],
          "name": "stderr"
        },
        {
          "output_type": "stream",
          "text": [
            "Epoch 1/10\n",
            "6/6 [==============================] - 9s 2s/step - loss: 0.3541 - accuracy: 0.8802 - val_loss: 0.2798 - val_accuracy: 0.9333\n",
            "Epoch 2/10\n",
            "6/6 [==============================] - 8s 1s/step - loss: 0.4323 - accuracy: 0.7708 - val_loss: 0.3122 - val_accuracy: 0.9500\n",
            "Epoch 3/10\n",
            "6/6 [==============================] - 8s 1s/step - loss: 0.3064 - accuracy: 0.8802 - val_loss: 0.1665 - val_accuracy: 0.9500\n",
            "Epoch 4/10\n",
            "6/6 [==============================] - 8s 1s/step - loss: 0.2748 - accuracy: 0.8854 - val_loss: 0.2774 - val_accuracy: 0.9667\n",
            "Epoch 5/10\n",
            "6/6 [==============================] - 8s 1s/step - loss: 0.2396 - accuracy: 0.9167 - val_loss: 0.1269 - val_accuracy: 0.9667\n",
            "Epoch 6/10\n",
            "6/6 [==============================] - 8s 1s/step - loss: 0.2143 - accuracy: 0.9219 - val_loss: 0.1694 - val_accuracy: 0.9667\n",
            "Epoch 7/10\n",
            "6/6 [==============================] - 8s 1s/step - loss: 0.1416 - accuracy: 0.9583 - val_loss: 0.1259 - val_accuracy: 0.9667\n",
            "Epoch 8/10\n",
            "6/6 [==============================] - 8s 1s/step - loss: 0.0926 - accuracy: 0.9635 - val_loss: 0.0737 - val_accuracy: 0.9833\n",
            "Epoch 9/10\n",
            "6/6 [==============================] - 8s 1s/step - loss: 0.1278 - accuracy: 0.9583 - val_loss: 0.0897 - val_accuracy: 0.9667\n",
            "Epoch 10/10\n",
            "6/6 [==============================] - 8s 1s/step - loss: 0.1369 - accuracy: 0.9479 - val_loss: 0.0627 - val_accuracy: 0.9833\n"
          ],
          "name": "stdout"
        }
      ]
    },
    {
      "cell_type": "markdown",
      "metadata": {
        "id": "XU3VeJ4BPnco"
      },
      "source": [
        "# LOSS IS VERY LESS\r\n"
      ]
    },
    {
      "cell_type": "code",
      "metadata": {
        "id": "aNDruFAf3m7O"
      },
      "source": [
        "model.save(\"model_adv.h5\")"
      ],
      "execution_count": 34,
      "outputs": []
    },
    {
      "cell_type": "code",
      "metadata": {
        "colab": {
          "base_uri": "https://localhost:8080/"
        },
        "id": "Ufgqe4B28rrZ",
        "outputId": "74da7d31-22a3-414a-9e04-d981a06fdecc"
      },
      "source": [
        "model.evaluate_generator(train_generator)"
      ],
      "execution_count": 35,
      "outputs": [
        {
          "output_type": "stream",
          "text": [
            "/usr/local/lib/python3.7/dist-packages/tensorflow/python/keras/engine/training.py:1877: UserWarning: `Model.evaluate_generator` is deprecated and will be removed in a future version. Please use `Model.evaluate`, which supports generators.\n",
            "  warnings.warn('`Model.evaluate_generator` is deprecated and '\n"
          ],
          "name": "stderr"
        },
        {
          "output_type": "execute_result",
          "data": {
            "text/plain": [
              "[0.1395721584558487, 0.9330357313156128]"
            ]
          },
          "metadata": {
            "tags": []
          },
          "execution_count": 35
        }
      ]
    },
    {
      "cell_type": "code",
      "metadata": {
        "colab": {
          "base_uri": "https://localhost:8080/"
        },
        "id": "pdciX9EP81fe",
        "outputId": "963969ae-fd1f-43fc-b596-a6b614e39b51"
      },
      "source": [
        "model.evaluate_generator(validation_generator)"
      ],
      "execution_count": 36,
      "outputs": [
        {
          "output_type": "stream",
          "text": [
            "/usr/local/lib/python3.7/dist-packages/tensorflow/python/keras/engine/training.py:1877: UserWarning: `Model.evaluate_generator` is deprecated and will be removed in a future version. Please use `Model.evaluate`, which supports generators.\n",
            "  warnings.warn('`Model.evaluate_generator` is deprecated and '\n"
          ],
          "name": "stderr"
        },
        {
          "output_type": "execute_result",
          "data": {
            "text/plain": [
              "[0.06271656602621078, 0.9833333492279053]"
            ]
          },
          "metadata": {
            "tags": []
          },
          "execution_count": 36
        }
      ]
    },
    {
      "cell_type": "markdown",
      "metadata": {
        "id": "gw7ZYo9G9Siu"
      },
      "source": [
        "TEST IMAGES"
      ]
    },
    {
      "cell_type": "code",
      "metadata": {
        "id": "fgkbmoRU9X7F"
      },
      "source": [
        "model=load_model('model_adv.h5')"
      ],
      "execution_count": 37,
      "outputs": []
    },
    {
      "cell_type": "code",
      "metadata": {
        "id": "a7aQ7a249o48"
      },
      "source": [
        "import os"
      ],
      "execution_count": 38,
      "outputs": []
    },
    {
      "cell_type": "code",
      "metadata": {
        "colab": {
          "base_uri": "https://localhost:8080/"
        },
        "id": "9BbTc3339q8f",
        "outputId": "e12e6fb4-7774-4ae8-e434-aeb80404706a"
      },
      "source": [
        "train_generator.class_indices"
      ],
      "execution_count": 39,
      "outputs": [
        {
          "output_type": "execute_result",
          "data": {
            "text/plain": [
              "{'Covid': 0, 'Normal': 1}"
            ]
          },
          "metadata": {
            "tags": []
          },
          "execution_count": 39
        }
      ]
    },
    {
      "cell_type": "code",
      "metadata": {
        "id": "pwarsfan9rXv"
      },
      "source": [
        "y_actual=[]\r\n",
        "y_test=[]"
      ],
      "execution_count": 40,
      "outputs": []
    },
    {
      "cell_type": "code",
      "metadata": {
        "colab": {
          "base_uri": "https://localhost:8080/"
        },
        "id": "Fzs6cmDz9r9R",
        "outputId": "aed3ef86-55a1-4b9d-e3a7-1de71754aa0d"
      },
      "source": [
        "for i in os.listdir(\"./CovidDataset/Val/Normal\"):\r\n",
        "  img=image.load_img(\"./CovidDataset/Val/Normal/\"+i,target_size=(224,224))\r\n",
        "  img=image.img_to_array(img)\r\n",
        "  img=np.expand_dims(img,axis=0)\r\n",
        "  p=model.predict_classes(img)\r\n",
        "  y_test.append(p[0,0])\r\n",
        "  y_actual.append(1)"
      ],
      "execution_count": 42,
      "outputs": [
        {
          "output_type": "stream",
          "text": [
            "/usr/local/lib/python3.7/dist-packages/tensorflow/python/keras/engine/sequential.py:450: UserWarning: `model.predict_classes()` is deprecated and will be removed after 2021-01-01. Please use instead:* `np.argmax(model.predict(x), axis=-1)`,   if your model does multi-class classification   (e.g. if it uses a `softmax` last-layer activation).* `(model.predict(x) > 0.5).astype(\"int32\")`,   if your model does binary classification   (e.g. if it uses a `sigmoid` last-layer activation).\n",
            "  warnings.warn('`model.predict_classes()` is deprecated and '\n"
          ],
          "name": "stderr"
        }
      ]
    },
    {
      "cell_type": "code",
      "metadata": {
        "colab": {
          "base_uri": "https://localhost:8080/"
        },
        "id": "FnoenR0W9sxG",
        "outputId": "5ac7552e-e5c4-4143-bf1a-94e0f71cf0d6"
      },
      "source": [
        "for i in os.listdir(\"./CovidDataset/Val/Covid\"):\r\n",
        "  img=image.load_img(\"./CovidDataset/Val/Covid/\"+i,target_size=(224,224))\r\n",
        "  img=image.img_to_array(img)\r\n",
        "  img=np.expand_dims(img,axis=0)\r\n",
        "  p=model.predict_classes(img)\r\n",
        "  y_test.append(p[0,0])\r\n",
        "  y_actual.append(0)"
      ],
      "execution_count": 43,
      "outputs": [
        {
          "output_type": "stream",
          "text": [
            "/usr/local/lib/python3.7/dist-packages/tensorflow/python/keras/engine/sequential.py:450: UserWarning: `model.predict_classes()` is deprecated and will be removed after 2021-01-01. Please use instead:* `np.argmax(model.predict(x), axis=-1)`,   if your model does multi-class classification   (e.g. if it uses a `softmax` last-layer activation).* `(model.predict(x) > 0.5).astype(\"int32\")`,   if your model does binary classification   (e.g. if it uses a `sigmoid` last-layer activation).\n",
            "  warnings.warn('`model.predict_classes()` is deprecated and '\n"
          ],
          "name": "stderr"
        }
      ]
    },
    {
      "cell_type": "code",
      "metadata": {
        "id": "5COpMj9w_P1G"
      },
      "source": [
        "y_actual=np.array(y_actual)\r\n",
        "y_test=np.array(y_test)"
      ],
      "execution_count": 44,
      "outputs": []
    },
    {
      "cell_type": "code",
      "metadata": {
        "id": "7VTvgOIc_QLc"
      },
      "source": [
        "from sklearn.metrics import confusion_matrix"
      ],
      "execution_count": 45,
      "outputs": []
    },
    {
      "cell_type": "code",
      "metadata": {
        "id": "dx_UgK_G_Qgn"
      },
      "source": [
        "cm=confusion_matrix(y_actual,y_test)"
      ],
      "execution_count": 49,
      "outputs": []
    },
    {
      "cell_type": "code",
      "metadata": {
        "id": "PKMWaqag_n27"
      },
      "source": [
        "import seaborn as sns"
      ],
      "execution_count": 52,
      "outputs": []
    },
    {
      "cell_type": "code",
      "metadata": {
        "colab": {
          "base_uri": "https://localhost:8080/",
          "height": 287
        },
        "id": "8Fe1so02_o8m",
        "outputId": "eb39fe61-fc40-49ea-b8fa-8fa71edd251b"
      },
      "source": [
        "sns.heatmap(cm,cmap=\"plasma\",annot=True)"
      ],
      "execution_count": 53,
      "outputs": [
        {
          "output_type": "execute_result",
          "data": {
            "text/plain": [
              "<matplotlib.axes._subplots.AxesSubplot at 0x7f0c991d9150>"
            ]
          },
          "metadata": {
            "tags": []
          },
          "execution_count": 53
        },
        {
          "output_type": "display_data",
          "data": {
            "image/png": "[encoded data removed]",
            "text/plain": [
              "<Figure size 432x288 with 2 Axes>"
            ]
          },
          "metadata": {
            "tags": [],
            "needs_background": "light"
          }
        }
      ]
    },
    {
      "cell_type": "code",
      "metadata": {
        "id": "lNQiOQt4_pVm"
      },
      "source": [
        ""
      ],
      "execution_count": null,
      "outputs": []
    },
    {
      "cell_type": "code",
      "metadata": {
        "id": "xXr2pg0B_p1f"
      },
      "source": [
        ""
      ],
      "execution_count": null,
      "outputs": []
    }
  ]
}